{
 "cells": [
  {
   "cell_type": "markdown",
   "id": "4819639c-c7c0-4c71-94de-7fedb1d47d44",
   "metadata": {},
   "source": [
    "OpenCV haarcascades GitHub link: [face cascade](https://github.com/opencv/opencv/tree/master/data/haarcascades)"
   ]
  },
  {
   "cell_type": "markdown",
   "id": "1bbde5b0-9938-46e8-bf6d-513fe728fc1a",
   "metadata": {},
   "source": [
    "## Face Detection"
   ]
  },
  {
   "cell_type": "code",
   "execution_count": 44,
   "id": "ddfe2ac2-aaf0-4375-a8d0-3ed710060744",
   "metadata": {},
   "outputs": [],
   "source": [
    "# library\n",
    "import cv2\n",
    "\n",
    "# open the image\n",
    "img = cv2.imread('neymar-messi-suarez.jpg')\n",
    "\n",
    "# face cascade\n",
    "face_cascade = cv2.CascadeClassifier('haarcascade_frontalface_default.xml')\n",
    "\n",
    "# face detection function\n",
    "def detect_face(img):\n",
    "    \n",
    "    face_img = img.copy()\n",
    "    \n",
    "    face_rects = face_cascade.detectMultiScale(face_img, scaleFactor=1.3, minNeighbors=3)\n",
    "    \n",
    "    for (x,y,w,h) in face_rects:\n",
    "        cv2.rectangle(face_img, (x,y), (x+w,y+h), (0,0,255), 2)\n",
    "        \n",
    "    return face_img\n",
    "\n",
    "# apply the face detection function\n",
    "face_img = detect_face(img)\n",
    "\n",
    "# display the result\n",
    "cv2.imshow('Original Image', img)\n",
    "cv2.imshow('Detected Face', face_img)\n",
    "cv2.waitKey(0)\n",
    "cv2.destroyAllWindows()"
   ]
  },
  {
   "cell_type": "code",
   "execution_count": 45,
   "id": "d3a0346a-2e23-431f-a96c-b7040b80a147",
   "metadata": {},
   "outputs": [],
   "source": [
    "face_rects = face_cascade.detectMultiScale(img, scaleFactor=1.3, minNeighbors=3)"
   ]
  },
  {
   "cell_type": "code",
   "execution_count": 46,
   "id": "ed23032b-c9be-40ed-a5d1-da16748bad50",
   "metadata": {},
   "outputs": [
    {
     "data": {
      "text/plain": [
       "array([[ 43,  19,  66,  66],\n",
       "       [293,  25,  69,  69],\n",
       "       [173,  27,  71,  71]])"
      ]
     },
     "execution_count": 46,
     "metadata": {},
     "output_type": "execute_result"
    }
   ],
   "source": [
    "face_rects"
   ]
  },
  {
   "cell_type": "markdown",
   "id": "6bf2c968-f134-4461-8fd6-b8af6d9ce806",
   "metadata": {},
   "source": [
    "## Detect and Blur the Face"
   ]
  },
  {
   "cell_type": "code",
   "execution_count": 47,
   "id": "7e53d265-d22c-4819-803f-c7cc592a27bf",
   "metadata": {},
   "outputs": [],
   "source": [
    "# library\n",
    "import cv2\n",
    "\n",
    "# open the image\n",
    "img = cv2.imread('neymar-messi-suarez.jpg')\n",
    "\n",
    "# face cascade\n",
    "face_cascade = cv2.CascadeClassifier('haarcascade_frontalface_default.xml')\n",
    "\n",
    "# face detection function\n",
    "def detect_face(img):\n",
    "    \n",
    "    face_img = img.copy()\n",
    "    \n",
    "    face_rects = face_cascade.detectMultiScale(face_img, scaleFactor=1.3, minNeighbors=3)\n",
    "    \n",
    "    for (x,y,w,h) in face_rects:\n",
    "        roi = face_img[y:y+h,x:x+w]\n",
    "        blurred = cv2.medianBlur(roi,15)\n",
    "        face_img[y:y+h,x:x+w] = blurred        \n",
    "        cv2.rectangle(face_img, (x,y), (x+w,y+h), (0,0,255), 2)\n",
    "        \n",
    "    return face_img\n",
    "\n",
    "# apply the face detection function\n",
    "face_img = detect_face(img)\n",
    "\n",
    "# display the result\n",
    "cv2.imshow('Original Image', img)\n",
    "cv2.imshow('Detected Face', face_img)\n",
    "cv2.waitKey(0)\n",
    "cv2.destroyAllWindows()"
   ]
  },
  {
   "cell_type": "markdown",
   "id": "9e03fcd8-63da-4258-b605-d32a0e222b65",
   "metadata": {},
   "source": [
    "## Detect Face in Webcam"
   ]
  },
  {
   "cell_type": "code",
   "execution_count": 48,
   "id": "2d7a8023-0d97-4589-a400-e706d9c3d676",
   "metadata": {},
   "outputs": [],
   "source": [
    "# library\n",
    "import cv2\n",
    "\n",
    "# face cascade\n",
    "face_cascade = cv2.CascadeClassifier('haarcascade_frontalface_default.xml')\n",
    "\n",
    "# face detection function\n",
    "def detect_face(img):\n",
    "    \n",
    "    face_img = img.copy()\n",
    "    \n",
    "    face_rects = face_cascade.detectMultiScale(face_img, scaleFactor=1.3, minNeighbors=3)\n",
    "    \n",
    "    for (x,y,w,h) in face_rects:\n",
    "        roi = face_img[y:y+h,x:x+w]\n",
    "        blurred = cv2.medianBlur(roi,15)\n",
    "        face_img[y:y+h,x:x+w] = blurred        \n",
    "        cv2.rectangle(face_img, (x,y), (x+w,y+h), (0,0,255), 2)\n",
    "        \n",
    "    return face_img\n",
    "\n",
    "# open the webcam\n",
    "cap = cv2.VideoCapture(0)\n",
    "\n",
    "# apply the face detection\n",
    "while True:\n",
    "    ret, frame = cap.read(0)\n",
    "    frame = detect_face(frame)\n",
    "    cv2.imshow('Webcam Face Detect', frame)\n",
    "    k = cv2.waitKey(1)\n",
    "    if k == 27:\n",
    "        break\n",
    "        \n",
    "cap.release()\n",
    "cv2.destroyAllWindows()"
   ]
  },
  {
   "cell_type": "markdown",
   "id": "f491e327-7dd7-4e04-a580-481e000e1df1",
   "metadata": {},
   "source": [
    "## THANK YOU"
   ]
  }
 ],
 "metadata": {
  "kernelspec": {
   "display_name": "Python 3 (ipykernel)",
   "language": "python",
   "name": "python3"
  },
  "language_info": {
   "codemirror_mode": {
    "name": "ipython",
    "version": 3
   },
   "file_extension": ".py",
   "mimetype": "text/x-python",
   "name": "python",
   "nbconvert_exporter": "python",
   "pygments_lexer": "ipython3",
   "version": "3.9.12"
  }
 },
 "nbformat": 4,
 "nbformat_minor": 5
}
