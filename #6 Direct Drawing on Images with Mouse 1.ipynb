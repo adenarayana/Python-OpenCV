{
 "cells": [
  {
   "cell_type": "markdown",
   "id": "ac070dc7-646a-4dc1-9522-be20ca571e1b",
   "metadata": {},
   "source": [
    "Should be in one cell or in python script (.py)"
   ]
  },
  {
   "cell_type": "code",
   "execution_count": 5,
   "id": "3c35b0eb-6304-4eb3-8acf-0d60ad9ff29c",
   "metadata": {},
   "outputs": [],
   "source": [
    "import cv2\n",
    "\n",
    "# drawing function\n",
    "def draw_circle(event, x, y, flags, param):\n",
    "    \n",
    "    if event == cv2.EVENT_LBUTTONDOWN:\n",
    "        cv2.circle(img=img, center=(x,y), radius=50, color=(0,255,0), thickness=5)\n",
    "\n",
    "# conect drawing function to image window\n",
    "cv2.namedWindow(winname='image')\n",
    "cv2.setMouseCallback('image', draw_circle)\n",
    "\n",
    "# showing image\n",
    "img = cv2.imread('rubik_small.png')\n",
    "\n",
    "while True:\n",
    "    \n",
    "    cv2.imshow('image', img)\n",
    "    \n",
    "    if cv2.waitKey(20) & 0xFF == 27:\n",
    "        break\n",
    "\n",
    "cv2.destroyAllWindows()"
   ]
  },
  {
   "cell_type": "code",
   "execution_count": null,
   "id": "470c106c-29e6-411b-bcc3-a8e0c15ea373",
   "metadata": {},
   "outputs": [],
   "source": []
  }
 ],
 "metadata": {
  "kernelspec": {
   "display_name": "Python 3 (ipykernel)",
   "language": "python",
   "name": "python3"
  },
  "language_info": {
   "codemirror_mode": {
    "name": "ipython",
    "version": 3
   },
   "file_extension": ".py",
   "mimetype": "text/x-python",
   "name": "python",
   "nbconvert_exporter": "python",
   "pygments_lexer": "ipython3",
   "version": "3.9.12"
  }
 },
 "nbformat": 4,
 "nbformat_minor": 5
}
