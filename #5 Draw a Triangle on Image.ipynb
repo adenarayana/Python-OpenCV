{
 "cells": [
  {
   "cell_type": "code",
   "execution_count": 1,
   "id": "851d46fe-d282-40ec-8ff3-71b126cafa15",
   "metadata": {},
   "outputs": [],
   "source": [
    "import cv2\n",
    "\n",
    "import numpy as np"
   ]
  },
  {
   "cell_type": "code",
   "execution_count": 14,
   "id": "1d50d5eb-946a-4cd7-9b80-0e9e98adccb2",
   "metadata": {},
   "outputs": [],
   "source": [
    "img = cv2.imread('rubik_small.png')"
   ]
  },
  {
   "cell_type": "code",
   "execution_count": 3,
   "id": "8cc82429-0731-4838-af13-3bf1fd1773f6",
   "metadata": {},
   "outputs": [],
   "source": [
    "cv2.imshow('image', img)\n",
    "\n",
    "cv2.waitKey(0)\n",
    "cv2.destroyAllWindows()"
   ]
  },
  {
   "cell_type": "code",
   "execution_count": 4,
   "id": "c4e60fd8-d039-4e1c-9b62-f2115d028d73",
   "metadata": {},
   "outputs": [],
   "source": [
    "vertices = np.array([ [10,500], [210,500], [100,10] ], dtype=np.int32)"
   ]
  },
  {
   "cell_type": "code",
   "execution_count": 5,
   "id": "ca294505-1823-4f03-8090-39c6fff5ddd1",
   "metadata": {},
   "outputs": [
    {
     "data": {
      "text/plain": [
       "(3, 2)"
      ]
     },
     "execution_count": 5,
     "metadata": {},
     "output_type": "execute_result"
    }
   ],
   "source": [
    "vertices.shape"
   ]
  },
  {
   "cell_type": "code",
   "execution_count": 6,
   "id": "37787164-1594-4555-9b06-da768cfb3103",
   "metadata": {},
   "outputs": [],
   "source": [
    "points = vertices.reshape((3,1,2))"
   ]
  },
  {
   "cell_type": "code",
   "execution_count": 7,
   "id": "3cc21a64-6b9d-498f-837f-fa3ff2a2020c",
   "metadata": {},
   "outputs": [
    {
     "data": {
      "text/plain": [
       "(3, 1, 2)"
      ]
     },
     "execution_count": 7,
     "metadata": {},
     "output_type": "execute_result"
    }
   ],
   "source": [
    "points.shape"
   ]
  },
  {
   "cell_type": "code",
   "execution_count": 15,
   "id": "69357591-3c5c-45e2-9835-a57cc443fe6a",
   "metadata": {
    "tags": []
   },
   "outputs": [],
   "source": [
    "cv2.polylines(img, [points], color=(0,0,255), isClosed=False, thickness=5);"
   ]
  },
  {
   "cell_type": "code",
   "execution_count": 16,
   "id": "7a85be0f-9b15-4d48-a805-f6c89a462372",
   "metadata": {},
   "outputs": [],
   "source": [
    "cv2.imshow('image', img)\n",
    "\n",
    "cv2.waitKey(0)\n",
    "cv2.destroyAllWindows()"
   ]
  },
  {
   "cell_type": "markdown",
   "id": "b0e30b97-05c2-416c-94bc-955ae5420a05",
   "metadata": {},
   "source": [
    "### THANK YOU"
   ]
  }
 ],
 "metadata": {
  "kernelspec": {
   "display_name": "Python 3 (ipykernel)",
   "language": "python",
   "name": "python3"
  },
  "language_info": {
   "codemirror_mode": {
    "name": "ipython",
    "version": 3
   },
   "file_extension": ".py",
   "mimetype": "text/x-python",
   "name": "python",
   "nbconvert_exporter": "python",
   "pygments_lexer": "ipython3",
   "version": "3.9.12"
  }
 },
 "nbformat": 4,
 "nbformat_minor": 5
}
