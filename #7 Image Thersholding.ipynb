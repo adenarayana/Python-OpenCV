{
 "cells": [
  {
   "cell_type": "code",
   "execution_count": 1,
   "id": "4bfeffc9",
   "metadata": {},
   "outputs": [],
   "source": [
    "import cv2"
   ]
  },
  {
   "cell_type": "code",
   "execution_count": 2,
   "id": "af6ef8ee",
   "metadata": {},
   "outputs": [],
   "source": [
    "img = cv2.imread('rubik_small.png',0)"
   ]
  },
  {
   "cell_type": "code",
   "execution_count": 3,
   "id": "458a3f7a",
   "metadata": {},
   "outputs": [],
   "source": [
    "cv2.imshow('original image', img)\n",
    "cv2.waitKey(0)\n",
    "cv2.destroyAllWindows()"
   ]
  },
  {
   "cell_type": "markdown",
   "id": "12d93ab8",
   "metadata": {},
   "source": [
    "[threshold types](https://docs.opencv.org/4.x/d7/d1b/group__imgproc__misc.html#ggaa9e58d2860d4afa658ef70a9b1115576a147222a96556ebc1d948b372bcd7ac59)"
   ]
  },
  {
   "cell_type": "code",
   "execution_count": 4,
   "id": "9d4e8217",
   "metadata": {},
   "outputs": [],
   "source": [
    "ret, thresh = cv2.threshold(src=img, \n",
    "                            thresh=127, \n",
    "                            maxval=255, \n",
    "                            type=cv2.THRESH_BINARY)"
   ]
  },
  {
   "cell_type": "code",
   "execution_count": 5,
   "id": "d3deced6",
   "metadata": {},
   "outputs": [],
   "source": [
    "cv2.imshow('threshold image', thresh)\n",
    "cv2.waitKey(0)\n",
    "cv2.destroyAllWindows()"
   ]
  },
  {
   "cell_type": "markdown",
   "id": "885f4767",
   "metadata": {},
   "source": [
    "### THANK YOU"
   ]
  }
 ],
 "metadata": {
  "kernelspec": {
   "display_name": "Python 3 (ipykernel)",
   "language": "python",
   "name": "python3"
  },
  "language_info": {
   "codemirror_mode": {
    "name": "ipython",
    "version": 3
   },
   "file_extension": ".py",
   "mimetype": "text/x-python",
   "name": "python",
   "nbconvert_exporter": "python",
   "pygments_lexer": "ipython3",
   "version": "3.9.12"
  }
 },
 "nbformat": 4,
 "nbformat_minor": 5
}
