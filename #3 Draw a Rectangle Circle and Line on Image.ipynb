{
 "cells": [
  {
   "cell_type": "code",
   "execution_count": 1,
   "id": "2a0f35c8-7b19-4b50-8849-df63d36c6711",
   "metadata": {},
   "outputs": [],
   "source": [
    "import cv2"
   ]
  },
  {
   "cell_type": "code",
   "execution_count": 2,
   "id": "a7b79837-42a6-44d9-a553-d0f719cc5808",
   "metadata": {},
   "outputs": [],
   "source": [
    "img = cv2.imread('rubik_small.png')"
   ]
  },
  {
   "cell_type": "code",
   "execution_count": 3,
   "id": "51a20f89-2c99-4907-8773-2790b4f36b27",
   "metadata": {},
   "outputs": [],
   "source": [
    "cv2.imshow('input image', img)\n",
    "cv2.waitKey(0)\n",
    "cv2.destroyAllWindows()"
   ]
  },
  {
   "cell_type": "markdown",
   "id": "9862a9dc-2710-4cfb-a7f2-657df60c8dd5",
   "metadata": {},
   "source": [
    "### Rectangle"
   ]
  },
  {
   "cell_type": "code",
   "execution_count": 10,
   "id": "0780108f-24f1-43d8-8725-826ed9030d3e",
   "metadata": {},
   "outputs": [],
   "source": [
    "img_square = img.copy()"
   ]
  },
  {
   "cell_type": "code",
   "execution_count": 11,
   "id": "3d7b1847-cd00-474b-b862-925d36251967",
   "metadata": {},
   "outputs": [],
   "source": [
    "cv2.rectangle(img_square, \n",
    "              pt1=(100,50), #top left\n",
    "              pt2=(200,150), #bottom right\n",
    "              color=(255,0,0), #BGR\n",
    "              thickness=10);"
   ]
  },
  {
   "cell_type": "code",
   "execution_count": 9,
   "id": "8c7608a4-5a4b-4a65-91e1-575abda020b0",
   "metadata": {},
   "outputs": [],
   "source": [
    "cv2.imshow('rectangle', img_square)\n",
    "cv2.waitKey(0)\n",
    "cv2.destroyAllWindows()"
   ]
  },
  {
   "cell_type": "markdown",
   "id": "edca96d5-2d31-4eea-a669-5b2fa5462557",
   "metadata": {},
   "source": [
    "### Circle"
   ]
  },
  {
   "cell_type": "code",
   "execution_count": 12,
   "id": "a326703a-7001-4bab-a5b1-094895e02dab",
   "metadata": {},
   "outputs": [],
   "source": [
    "img_circle = img.copy()"
   ]
  },
  {
   "cell_type": "code",
   "execution_count": 13,
   "id": "bb92c850-5587-40f1-aa7e-c1ceb00beffb",
   "metadata": {},
   "outputs": [],
   "source": [
    "cv2.circle(img_circle, \n",
    "           center=(100,100), \n",
    "           radius=50, \n",
    "           color=(0,0,255), \n",
    "           thickness=10);"
   ]
  },
  {
   "cell_type": "code",
   "execution_count": 14,
   "id": "0758ff04-4a56-4550-be0f-918646b4c99b",
   "metadata": {},
   "outputs": [],
   "source": [
    "cv2.imshow('circle', img_circle)\n",
    "cv2.waitKey(0)\n",
    "cv2.destroyAllWindows()"
   ]
  },
  {
   "cell_type": "markdown",
   "id": "f81ccffa-7457-4aac-92b3-10b257f296c8",
   "metadata": {},
   "source": [
    "### Polygon"
   ]
  },
  {
   "cell_type": "code",
   "execution_count": 15,
   "id": "bd32af0e-33b5-4836-ad1d-9bf7d44df145",
   "metadata": {},
   "outputs": [],
   "source": [
    "img_poly = img.copy()"
   ]
  },
  {
   "cell_type": "code",
   "execution_count": 16,
   "id": "81538175-f38c-447b-97c0-6dd75a3e5570",
   "metadata": {},
   "outputs": [],
   "source": [
    "cv2.line(img_poly, \n",
    "         pt1=(0,0), \n",
    "         pt2=(500,500), \n",
    "         color=(0,255,0), \n",
    "         thickness=10);"
   ]
  },
  {
   "cell_type": "code",
   "execution_count": 17,
   "id": "a817fdcb-c366-41d7-afee-8839aaa45ea9",
   "metadata": {},
   "outputs": [],
   "source": [
    "cv2.imshow('polyline', img_poly)\n",
    "cv2.waitKey(0)\n",
    "cv2.destroyAllWindows()"
   ]
  },
  {
   "cell_type": "markdown",
   "id": "72daf501-186d-4f73-b82f-e98bb319efd9",
   "metadata": {},
   "source": [
    "### Display all the result"
   ]
  },
  {
   "cell_type": "code",
   "execution_count": 18,
   "id": "b332b726-f8bf-4a3e-a42b-4546eaee2252",
   "metadata": {},
   "outputs": [],
   "source": [
    "cv2.imshow('input image', img)\n",
    "cv2.imshow('rectangle', img_square)\n",
    "cv2.imshow('circle', img_circle)\n",
    "cv2.imshow('polyline', img_poly)\n",
    "\n",
    "cv2.waitKey(0)\n",
    "cv2.destroyAllWindows()"
   ]
  },
  {
   "cell_type": "markdown",
   "id": "0911bdc2-20cb-4f79-8bb1-19f11ee8e2f8",
   "metadata": {},
   "source": [
    "### THANK YOU"
   ]
  }
 ],
 "metadata": {
  "kernelspec": {
   "display_name": "Python 3 (ipykernel)",
   "language": "python",
   "name": "python3"
  },
  "language_info": {
   "codemirror_mode": {
    "name": "ipython",
    "version": 3
   },
   "file_extension": ".py",
   "mimetype": "text/x-python",
   "name": "python",
   "nbconvert_exporter": "python",
   "pygments_lexer": "ipython3",
   "version": "3.9.12"
  },
  "vscode": {
   "interpreter": {
    "hash": "d93c3ea2854c32f51ced077ecb92a08cce02cdb43d8c9b0a75cf5ed699137b5a"
   }
  }
 },
 "nbformat": 4,
 "nbformat_minor": 5
}
