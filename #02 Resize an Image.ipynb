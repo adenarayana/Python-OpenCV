{
 "cells": [
  {
   "cell_type": "markdown",
   "id": "0a46b96d",
   "metadata": {},
   "source": [
    "### Import the OpenCV"
   ]
  },
  {
   "cell_type": "code",
   "execution_count": 2,
   "id": "b8cb41e2",
   "metadata": {},
   "outputs": [],
   "source": [
    "import cv2"
   ]
  },
  {
   "cell_type": "markdown",
   "id": "7f470ad5",
   "metadata": {},
   "source": [
    "### Open the Image"
   ]
  },
  {
   "cell_type": "code",
   "execution_count": 3,
   "id": "d3970400",
   "metadata": {},
   "outputs": [],
   "source": [
    "img = cv2.imread('Rubik.png', 1)"
   ]
  },
  {
   "cell_type": "code",
   "execution_count": 4,
   "id": "86c31ddd-fcb1-4534-aca2-ad6514b5f2b2",
   "metadata": {},
   "outputs": [],
   "source": [
    "cv2.imshow('image', img)\n",
    "cv2.waitKey(0)\n",
    "cv2.destroyAllWindows() "
   ]
  },
  {
   "cell_type": "markdown",
   "id": "948c5539",
   "metadata": {},
   "source": [
    "### Get the Image Size"
   ]
  },
  {
   "cell_type": "code",
   "execution_count": 5,
   "id": "e1803fd0-27d5-46f8-be77-3823ecea9736",
   "metadata": {},
   "outputs": [
    {
     "data": {
      "text/plain": [
       "(1600, 1600, 3)"
      ]
     },
     "execution_count": 5,
     "metadata": {},
     "output_type": "execute_result"
    }
   ],
   "source": [
    "# height, width, color channel\n",
    "img.shape"
   ]
  },
  {
   "cell_type": "code",
   "execution_count": 6,
   "id": "9ffc2a3d",
   "metadata": {
    "tags": []
   },
   "outputs": [],
   "source": [
    "height, width, channel = img.shape"
   ]
  },
  {
   "cell_type": "markdown",
   "id": "a7078495",
   "metadata": {},
   "source": [
    "### Resize the Image: Downscalling"
   ]
  },
  {
   "cell_type": "code",
   "execution_count": 12,
   "id": "5e0b3b60",
   "metadata": {},
   "outputs": [],
   "source": [
    "img_down = cv2.resize(img, (width//3, height//3))"
   ]
  },
  {
   "cell_type": "code",
   "execution_count": 13,
   "id": "30830e13-2c99-4374-9a2d-94a5db97eeff",
   "metadata": {},
   "outputs": [],
   "source": [
    "cv2.imshow('smaller image', img_down)\n",
    "cv2.waitKey(0)\n",
    "cv2.destroyAllWindows() "
   ]
  },
  {
   "cell_type": "markdown",
   "id": "a1b1a47e-e95e-4ad3-b781-00d56716c246",
   "metadata": {},
   "source": [
    "### Resize the image: Upscalling"
   ]
  },
  {
   "cell_type": "markdown",
   "id": "bd2a614e-1cfc-4f95-a519-c807bfb397e8",
   "metadata": {},
   "source": [
    "interpolation method `cv2.INTER_LINEAR`; `cv2.INTER_AREA`; `cv2.INTER_CUBIC`"
   ]
  },
  {
   "cell_type": "code",
   "execution_count": 10,
   "id": "71140280-900b-4f03-8de4-3d5ce523c406",
   "metadata": {},
   "outputs": [],
   "source": [
    "img_up = cv2.resize(img_down, (width, height), interpolation=cv2.INTER_LINEAR)"
   ]
  },
  {
   "cell_type": "code",
   "execution_count": 11,
   "id": "b5cd0845-4aee-49fd-b68b-dfde118728d4",
   "metadata": {},
   "outputs": [],
   "source": [
    "cv2.imshow('bigger image', img_up)\n",
    "cv2.waitKey(0)\n",
    "cv2.destroyAllWindows() "
   ]
  },
  {
   "cell_type": "markdown",
   "id": "9a1b54ca-7b36-45d9-9b0f-38d88128387b",
   "metadata": {},
   "source": [
    "### THANK YOU"
   ]
  }
 ],
 "metadata": {
  "kernelspec": {
   "display_name": "Python 3 (ipykernel)",
   "language": "python",
   "name": "python3"
  },
  "language_info": {
   "codemirror_mode": {
    "name": "ipython",
    "version": 3
   },
   "file_extension": ".py",
   "mimetype": "text/x-python",
   "name": "python",
   "nbconvert_exporter": "python",
   "pygments_lexer": "ipython3",
   "version": "3.9.12"
  }
 },
 "nbformat": 4,
 "nbformat_minor": 5
}
