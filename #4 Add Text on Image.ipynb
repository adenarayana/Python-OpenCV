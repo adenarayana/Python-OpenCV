{
 "cells": [
  {
   "cell_type": "code",
   "execution_count": 1,
   "id": "fa00dfe2-48d5-4f54-9511-3857ed2cd085",
   "metadata": {},
   "outputs": [],
   "source": [
    "import cv2"
   ]
  },
  {
   "cell_type": "code",
   "execution_count": 2,
   "id": "730ac127-50dd-4091-9ef2-dfe3df2e3f2d",
   "metadata": {},
   "outputs": [],
   "source": [
    "img = cv2.imread('rubik_small.png')"
   ]
  },
  {
   "cell_type": "code",
   "execution_count": 3,
   "id": "329c5f5c-6f95-4e53-9806-c72f691adb17",
   "metadata": {},
   "outputs": [],
   "source": [
    "cv2.imshow('input image', img)\n",
    "\n",
    "cv2.waitKey(0)\n",
    "cv2.destroyAllWindows()"
   ]
  },
  {
   "cell_type": "code",
   "execution_count": 4,
   "id": "3ac4a44c-c01b-4bb6-adac-0acc74116fe2",
   "metadata": {},
   "outputs": [],
   "source": [
    "font = cv2.FONT_HERSHEY_SIMPLEX"
   ]
  },
  {
   "cell_type": "code",
   "execution_count": 5,
   "id": "8ae22b66-c1dc-447a-9499-66ca0fa7b6c1",
   "metadata": {},
   "outputs": [],
   "source": [
    "cv2.putText(img, \n",
    "            text='HELLO', \n",
    "            org=(10,500), #bottom left\n",
    "            fontFace=font,\n",
    "            fontScale=5,\n",
    "            color=(0,0,255), #BGR on cv2.imshow\n",
    "            thickness=3,\n",
    "            lineType=cv2.LINE_AA);"
   ]
  },
  {
   "cell_type": "code",
   "execution_count": 6,
   "id": "5d17087a-1519-4cfb-be32-349066aa41c7",
   "metadata": {},
   "outputs": [],
   "source": [
    "cv2.imshow('Text on image', img)\n",
    "\n",
    "cv2.waitKey(0)\n",
    "cv2.destroyAllWindows()"
   ]
  },
  {
   "cell_type": "markdown",
   "id": "49cab91f-a56f-429f-a108-ace5d502088e",
   "metadata": {},
   "source": [
    "### THANK YOU"
   ]
  }
 ],
 "metadata": {
  "kernelspec": {
   "display_name": "Python 3 (ipykernel)",
   "language": "python",
   "name": "python3"
  },
  "language_info": {
   "codemirror_mode": {
    "name": "ipython",
    "version": 3
   },
   "file_extension": ".py",
   "mimetype": "text/x-python",
   "name": "python",
   "nbconvert_exporter": "python",
   "pygments_lexer": "ipython3",
   "version": "3.9.12"
  }
 },
 "nbformat": 4,
 "nbformat_minor": 5
}
