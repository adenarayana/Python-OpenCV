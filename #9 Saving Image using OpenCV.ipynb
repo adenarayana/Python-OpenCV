{
 "cells": [
  {
   "cell_type": "markdown",
   "id": "15539369-9641-4f9d-87f4-77c148c49429",
   "metadata": {},
   "source": [
    "### Import OpenCV"
   ]
  },
  {
   "cell_type": "code",
   "execution_count": 1,
   "id": "80fd5959-0585-4b66-827b-5cd21cab297b",
   "metadata": {},
   "outputs": [],
   "source": [
    "import cv2"
   ]
  },
  {
   "cell_type": "markdown",
   "id": "d48391dc-d594-4baf-a14d-95de10b6ae58",
   "metadata": {},
   "source": [
    "### Open Original Image"
   ]
  },
  {
   "cell_type": "code",
   "execution_count": 2,
   "id": "dcf21a6d-2430-4ba8-b1af-99f870e100f7",
   "metadata": {},
   "outputs": [],
   "source": [
    "#original image\n",
    "img = cv2.imread('rubik_small.png', 0)"
   ]
  },
  {
   "cell_type": "markdown",
   "id": "fc3c8876-9e57-4fe3-8f44-8c0ee1d73126",
   "metadata": {},
   "source": [
    "### Normalize the Image"
   ]
  },
  {
   "cell_type": "code",
   "execution_count": 15,
   "id": "a7246e56-ee9b-4a2a-ad92-264ecacf2578",
   "metadata": {
    "tags": []
   },
   "outputs": [],
   "source": [
    "#normalize image\n",
    "img_norm = img/img.max()"
   ]
  },
  {
   "cell_type": "markdown",
   "id": "c0edaa80-2d92-40c5-8622-0a914c299b4d",
   "metadata": {},
   "source": [
    "### Display the Images"
   ]
  },
  {
   "cell_type": "code",
   "execution_count": 4,
   "id": "d9ab81c6-2c3f-4aed-9779-124986e55e7f",
   "metadata": {},
   "outputs": [],
   "source": [
    "cv2.imshow('original image', img)\n",
    "cv2.imshow('normalize image', img)\n",
    "\n",
    "cv2.waitKey(0)\n",
    "cv2.destroyAllWindows()"
   ]
  },
  {
   "cell_type": "markdown",
   "id": "87565bb3-6e04-4337-b28c-ad3c272adf08",
   "metadata": {},
   "source": [
    "###"
   ]
  },
  {
   "cell_type": "code",
   "execution_count": 5,
   "id": "6586f983-e526-4b36-9c67-236d6bf7d29c",
   "metadata": {},
   "outputs": [
    {
     "data": {
      "text/plain": [
       "True"
      ]
     },
     "execution_count": 5,
     "metadata": {},
     "output_type": "execute_result"
    }
   ],
   "source": [
    "cv2.imwrite('original image.png', img)\n",
    "cv2.imwrite('normalize image.png', img_norm)"
   ]
  },
  {
   "cell_type": "code",
   "execution_count": 6,
   "id": "6dc90dfe-33aa-4be2-818f-780b44fa9f9f",
   "metadata": {},
   "outputs": [
    {
     "data": {
      "text/plain": [
       "array([[255, 255, 255, ..., 255, 255, 255],\n",
       "       [255, 255, 255, ..., 255, 255, 255],\n",
       "       [255, 255, 255, ..., 255, 255, 255],\n",
       "       ...,\n",
       "       [255, 255, 255, ..., 255, 255, 255],\n",
       "       [255, 255, 255, ..., 255, 255, 255],\n",
       "       [255, 255, 255, ..., 255, 255, 255]], dtype=uint8)"
      ]
     },
     "execution_count": 6,
     "metadata": {},
     "output_type": "execute_result"
    }
   ],
   "source": [
    "img"
   ]
  },
  {
   "cell_type": "code",
   "execution_count": 7,
   "id": "bbe3226d-d357-43aa-ae74-0cf4877225cf",
   "metadata": {},
   "outputs": [
    {
     "data": {
      "text/plain": [
       "array([[1., 1., 1., ..., 1., 1., 1.],\n",
       "       [1., 1., 1., ..., 1., 1., 1.],\n",
       "       [1., 1., 1., ..., 1., 1., 1.],\n",
       "       ...,\n",
       "       [1., 1., 1., ..., 1., 1., 1.],\n",
       "       [1., 1., 1., ..., 1., 1., 1.],\n",
       "       [1., 1., 1., ..., 1., 1., 1.]])"
      ]
     },
     "execution_count": 7,
     "metadata": {},
     "output_type": "execute_result"
    }
   ],
   "source": [
    "img_norm"
   ]
  },
  {
   "cell_type": "code",
   "execution_count": 8,
   "id": "1a784da4-a866-4bcd-8060-9831b511ba3e",
   "metadata": {},
   "outputs": [],
   "source": [
    "img_norm = img_norm * 255"
   ]
  },
  {
   "cell_type": "code",
   "execution_count": 9,
   "id": "858eb6b6-5edd-4e0a-a9c7-501ad884854e",
   "metadata": {},
   "outputs": [
    {
     "data": {
      "text/plain": [
       "array([[255., 255., 255., ..., 255., 255., 255.],\n",
       "       [255., 255., 255., ..., 255., 255., 255.],\n",
       "       [255., 255., 255., ..., 255., 255., 255.],\n",
       "       ...,\n",
       "       [255., 255., 255., ..., 255., 255., 255.],\n",
       "       [255., 255., 255., ..., 255., 255., 255.],\n",
       "       [255., 255., 255., ..., 255., 255., 255.]])"
      ]
     },
     "execution_count": 9,
     "metadata": {},
     "output_type": "execute_result"
    }
   ],
   "source": [
    "img_norm"
   ]
  },
  {
   "cell_type": "code",
   "execution_count": 10,
   "id": "5c54d2cd-7109-4030-a281-ee0c5024d9b0",
   "metadata": {},
   "outputs": [],
   "source": [
    "import numpy as np"
   ]
  },
  {
   "cell_type": "code",
   "execution_count": 11,
   "id": "1bd0b5ed-3c98-46ae-b6e4-20e52e128753",
   "metadata": {},
   "outputs": [],
   "source": [
    "img_norm = img_norm.astype(np.uint8)"
   ]
  },
  {
   "cell_type": "code",
   "execution_count": 12,
   "id": "8255358b-fba8-40b6-bb17-48bcccb6a0bd",
   "metadata": {},
   "outputs": [
    {
     "data": {
      "text/plain": [
       "array([[255, 255, 255, ..., 255, 255, 255],\n",
       "       [255, 255, 255, ..., 255, 255, 255],\n",
       "       [255, 255, 255, ..., 255, 255, 255],\n",
       "       ...,\n",
       "       [255, 255, 255, ..., 255, 255, 255],\n",
       "       [255, 255, 255, ..., 255, 255, 255],\n",
       "       [255, 255, 255, ..., 255, 255, 255]], dtype=uint8)"
      ]
     },
     "execution_count": 12,
     "metadata": {},
     "output_type": "execute_result"
    }
   ],
   "source": [
    "img_norm"
   ]
  },
  {
   "cell_type": "code",
   "execution_count": 13,
   "id": "0d7b7790-1e4c-4ec7-9195-eb5fefe4a6c1",
   "metadata": {},
   "outputs": [
    {
     "data": {
      "text/plain": [
       "True"
      ]
     },
     "execution_count": 13,
     "metadata": {},
     "output_type": "execute_result"
    }
   ],
   "source": [
    "cv2.imwrite('normalize image.png', img_norm)"
   ]
  },
  {
   "cell_type": "code",
   "execution_count": 14,
   "id": "6b71198a-0010-4256-ae6b-f03966ea21ad",
   "metadata": {},
   "outputs": [],
   "source": [
    "from skimage import img_as_ubyte"
   ]
  },
  {
   "cell_type": "code",
   "execution_count": 16,
   "id": "c870465c-7c97-4276-8c9c-1876b999a59f",
   "metadata": {},
   "outputs": [
    {
     "data": {
      "text/plain": [
       "array([[1., 1., 1., ..., 1., 1., 1.],\n",
       "       [1., 1., 1., ..., 1., 1., 1.],\n",
       "       [1., 1., 1., ..., 1., 1., 1.],\n",
       "       ...,\n",
       "       [1., 1., 1., ..., 1., 1., 1.],\n",
       "       [1., 1., 1., ..., 1., 1., 1.],\n",
       "       [1., 1., 1., ..., 1., 1., 1.]])"
      ]
     },
     "execution_count": 16,
     "metadata": {},
     "output_type": "execute_result"
    }
   ],
   "source": [
    "img_norm"
   ]
  },
  {
   "cell_type": "code",
   "execution_count": 17,
   "id": "f11f07e7-2cb4-4d1e-949d-b6e5f942544f",
   "metadata": {},
   "outputs": [],
   "source": [
    "img_norm = img_as_ubyte(img_norm)"
   ]
  },
  {
   "cell_type": "code",
   "execution_count": 18,
   "id": "125cd263-01a1-48f3-8b08-0f2f9ef13e08",
   "metadata": {},
   "outputs": [
    {
     "data": {
      "text/plain": [
       "array([[255, 255, 255, ..., 255, 255, 255],\n",
       "       [255, 255, 255, ..., 255, 255, 255],\n",
       "       [255, 255, 255, ..., 255, 255, 255],\n",
       "       ...,\n",
       "       [255, 255, 255, ..., 255, 255, 255],\n",
       "       [255, 255, 255, ..., 255, 255, 255],\n",
       "       [255, 255, 255, ..., 255, 255, 255]], dtype=uint8)"
      ]
     },
     "execution_count": 18,
     "metadata": {},
     "output_type": "execute_result"
    }
   ],
   "source": [
    "img_norm"
   ]
  },
  {
   "cell_type": "code",
   "execution_count": 19,
   "id": "3447af13-aa51-40d2-838c-1ea74e6dd8f0",
   "metadata": {},
   "outputs": [
    {
     "data": {
      "text/plain": [
       "True"
      ]
     },
     "execution_count": 19,
     "metadata": {},
     "output_type": "execute_result"
    }
   ],
   "source": [
    "cv2.imwrite('normalize image.png', img_norm)"
   ]
  },
  {
   "cell_type": "markdown",
   "id": "38a4bc46-312f-4278-8ad2-ba529c7cac29",
   "metadata": {},
   "source": [
    "### THANK YOU"
   ]
  }
 ],
 "metadata": {
  "kernelspec": {
   "display_name": "Python 3 (ipykernel)",
   "language": "python",
   "name": "python3"
  },
  "language_info": {
   "codemirror_mode": {
    "name": "ipython",
    "version": 3
   },
   "file_extension": ".py",
   "mimetype": "text/x-python",
   "name": "python",
   "nbconvert_exporter": "python",
   "pygments_lexer": "ipython3",
   "version": "3.9.12"
  }
 },
 "nbformat": 4,
 "nbformat_minor": 5
}
