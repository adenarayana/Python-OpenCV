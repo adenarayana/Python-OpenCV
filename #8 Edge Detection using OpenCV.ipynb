{
 "cells": [
  {
   "cell_type": "markdown",
   "id": "a2bae42b-5f54-457b-bdfa-b207d703eeb1",
   "metadata": {},
   "source": [
    "### Import OpenCV"
   ]
  },
  {
   "cell_type": "code",
   "execution_count": 1,
   "id": "8cf4e7e3",
   "metadata": {},
   "outputs": [],
   "source": [
    "import cv2"
   ]
  },
  {
   "cell_type": "markdown",
   "id": "131dad99-a7dd-4f44-8266-a868aae3bd35",
   "metadata": {},
   "source": [
    "### Import the Image"
   ]
  },
  {
   "cell_type": "code",
   "execution_count": 2,
   "id": "7a761fd5",
   "metadata": {},
   "outputs": [],
   "source": [
    "img = cv2.imread('Sudoku.png',0)"
   ]
  },
  {
   "cell_type": "code",
   "execution_count": 3,
   "id": "4d2cc0ff",
   "metadata": {},
   "outputs": [],
   "source": [
    "cv2.imshow('original image', img)\n",
    "cv2.waitKey(0)\n",
    "cv2.destroyAllWindows()"
   ]
  },
  {
   "cell_type": "markdown",
   "id": "53c76695-8d5c-47bc-b69b-dd88f7878ad9",
   "metadata": {},
   "source": [
    "### Edge Detection: Sobel Operator"
   ]
  },
  {
   "cell_type": "markdown",
   "id": "4874b1ed-cd9a-411f-91ae-1f576e3514f5",
   "metadata": {},
   "source": [
    "**Vertical Line**"
   ]
  },
  {
   "cell_type": "markdown",
   "id": "81f95be8-48fc-4048-a796-fe3d37856088",
   "metadata": {},
   "source": [
    "[ddepth](https://stackoverflow.com/questions/43392956/explanation-for-ddepth-parameter-in-cv2-filter2d-opencv)"
   ]
  },
  {
   "cell_type": "code",
   "execution_count": 4,
   "id": "00e2c6cf",
   "metadata": {},
   "outputs": [],
   "source": [
    "sobel_x = cv2.Sobel(src=img, \n",
    "                    ddepth=-1, \n",
    "                    dx=1, \n",
    "                    dy=0, \n",
    "                    ksize=3)"
   ]
  },
  {
   "cell_type": "code",
   "execution_count": 5,
   "id": "e4af6e66",
   "metadata": {},
   "outputs": [],
   "source": [
    "cv2.imshow('Sobel X', sobel_x)\n",
    "cv2.waitKey(0)\n",
    "cv2.destroyAllWindows()"
   ]
  },
  {
   "cell_type": "markdown",
   "id": "6da3b9cd-3406-4c1c-b6d7-db5686a14750",
   "metadata": {},
   "source": [
    "**Horizontal Line**"
   ]
  },
  {
   "cell_type": "code",
   "execution_count": 6,
   "id": "a63dd4f1",
   "metadata": {},
   "outputs": [],
   "source": [
    "sobel_y = cv2.Sobel(src=img, \n",
    "                    ddepth=-1, \n",
    "                    dx=0, \n",
    "                    dy=1, \n",
    "                    ksize=3)"
   ]
  },
  {
   "cell_type": "code",
   "execution_count": 7,
   "id": "49667944",
   "metadata": {},
   "outputs": [],
   "source": [
    "cv2.imshow('Sobel Y', sobel_y)\n",
    "cv2.waitKey(0)\n",
    "cv2.destroyAllWindows()"
   ]
  },
  {
   "cell_type": "markdown",
   "id": "9be6d3fe-b158-4d82-8a2f-f48c411d22e3",
   "metadata": {},
   "source": [
    "**Combine the result**"
   ]
  },
  {
   "cell_type": "code",
   "execution_count": 8,
   "id": "a6cc521e",
   "metadata": {},
   "outputs": [],
   "source": [
    "combine = cv2.addWeighted(src1=sobel_x, alpha=0.5, src2=sobel_y, beta=0.5, gamma=0)"
   ]
  },
  {
   "cell_type": "code",
   "execution_count": 9,
   "id": "84cf484d",
   "metadata": {},
   "outputs": [],
   "source": [
    "cv2.imshow('Combine X and Y', combine)\n",
    "cv2.waitKey(0)\n",
    "cv2.destroyAllWindows()"
   ]
  },
  {
   "cell_type": "markdown",
   "id": "4738d511-e64b-4103-9b1f-908db6d7319a",
   "metadata": {},
   "source": [
    "**Image Thresholding**"
   ]
  },
  {
   "cell_type": "code",
   "execution_count": 10,
   "id": "5f62bf11",
   "metadata": {},
   "outputs": [],
   "source": [
    "ret, thrs = cv2.threshold(src=combine, thresh=20, maxval=255, type=cv2.THRESH_BINARY)"
   ]
  },
  {
   "cell_type": "code",
   "execution_count": 11,
   "id": "f76b2975-73d3-424d-9571-600459a40b2b",
   "metadata": {},
   "outputs": [
    {
     "data": {
      "text/plain": [
       "20.0"
      ]
     },
     "execution_count": 11,
     "metadata": {},
     "output_type": "execute_result"
    }
   ],
   "source": [
    "ret"
   ]
  },
  {
   "cell_type": "code",
   "execution_count": 12,
   "id": "d453625c",
   "metadata": {},
   "outputs": [],
   "source": [
    "cv2.imshow('After Thresholding', thrs)\n",
    "cv2.waitKey(0)\n",
    "cv2.destroyAllWindows()"
   ]
  },
  {
   "cell_type": "code",
   "execution_count": 13,
   "id": "19a69e1b-8796-4fd8-ad10-91b52101df9e",
   "metadata": {},
   "outputs": [],
   "source": [
    "cv2.imshow('original image', img)\n",
    "cv2.imshow('Sobel X', sobel_x)\n",
    "cv2.imshow('Sobel Y', sobel_y)\n",
    "cv2.imshow('Combine X and Y', combine)\n",
    "cv2.imshow('After Thresholding', thrs)\n",
    "\n",
    "cv2.waitKey(0)\n",
    "cv2.destroyAllWindows()"
   ]
  },
  {
   "cell_type": "markdown",
   "id": "ee063c9e-dcc8-40e9-a6bb-b9065ef23c9d",
   "metadata": {},
   "source": [
    "### THANK YOU"
   ]
  }
 ],
 "metadata": {
  "kernelspec": {
   "display_name": "Python 3 (ipykernel)",
   "language": "python",
   "name": "python3"
  },
  "language_info": {
   "codemirror_mode": {
    "name": "ipython",
    "version": 3
   },
   "file_extension": ".py",
   "mimetype": "text/x-python",
   "name": "python",
   "nbconvert_exporter": "python",
   "pygments_lexer": "ipython3",
   "version": "3.9.12"
  }
 },
 "nbformat": 4,
 "nbformat_minor": 5
}
